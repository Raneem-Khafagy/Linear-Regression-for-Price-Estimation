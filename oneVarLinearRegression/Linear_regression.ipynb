{
  "nbformat": 4,
  "nbformat_minor": 0,
  "metadata": {
    "colab": {
      "name": "Linear regression.ipynb",
      "provenance": [],
      "collapsed_sections": []
    },
    "kernelspec": {
      "name": "python3",
      "display_name": "Python 3"
    },
    "language_info": {
      "name": "python"
    }
  },
  "cells": [
    {
      "cell_type": "code",
      "metadata": {
        "id": "H1fePla-Rmfm"
      },
      "source": [
        "#Imports \n",
        "import numpy as np\n",
        "import matplotlib.pyplot as plt\n",
        "import pandas as pd\n"
      ],
      "execution_count": null,
      "outputs": []
    },
    {
      "cell_type": "markdown",
      "metadata": {
        "id": "pzPsTsXo_0f0"
      },
      "source": [
        "# Load Data & Visualize It"
      ]
    },
    {
      "cell_type": "code",
      "metadata": {
        "id": "IVKWntb3_3zX"
      },
      "source": [
        "'''\n",
        "Should be doing something like file = pd.read_csv(filepath in string format)\n",
        "'''\n",
        "file1= pd.read_csv(\"/content/ex1.txt\",names=[\"size\",\"price\"])\n"
      ],
      "execution_count": null,
      "outputs": []
    },
    {
      "cell_type": "code",
      "metadata": {
        "colab": {
          "base_uri": "https://localhost:8080/",
          "height": 206
        },
        "id": "f7vmj_RUkvG6",
        "outputId": "a4cd611c-cd2a-4196-c950-977f27b78485"
      },
      "source": [
        "file1.head()"
      ],
      "execution_count": null,
      "outputs": [
        {
          "output_type": "execute_result",
          "data": {
            "text/html": [
              "<div>\n",
              "<style scoped>\n",
              "    .dataframe tbody tr th:only-of-type {\n",
              "        vertical-align: middle;\n",
              "    }\n",
              "\n",
              "    .dataframe tbody tr th {\n",
              "        vertical-align: top;\n",
              "    }\n",
              "\n",
              "    .dataframe thead th {\n",
              "        text-align: right;\n",
              "    }\n",
              "</style>\n",
              "<table border=\"1\" class=\"dataframe\">\n",
              "  <thead>\n",
              "    <tr style=\"text-align: right;\">\n",
              "      <th></th>\n",
              "      <th>size</th>\n",
              "      <th>price</th>\n",
              "    </tr>\n",
              "  </thead>\n",
              "  <tbody>\n",
              "    <tr>\n",
              "      <th>0</th>\n",
              "      <td>6.1101</td>\n",
              "      <td>17.5920</td>\n",
              "    </tr>\n",
              "    <tr>\n",
              "      <th>1</th>\n",
              "      <td>5.5277</td>\n",
              "      <td>9.1302</td>\n",
              "    </tr>\n",
              "    <tr>\n",
              "      <th>2</th>\n",
              "      <td>8.5186</td>\n",
              "      <td>13.6620</td>\n",
              "    </tr>\n",
              "    <tr>\n",
              "      <th>3</th>\n",
              "      <td>7.0032</td>\n",
              "      <td>11.8540</td>\n",
              "    </tr>\n",
              "    <tr>\n",
              "      <th>4</th>\n",
              "      <td>5.8598</td>\n",
              "      <td>6.8233</td>\n",
              "    </tr>\n",
              "  </tbody>\n",
              "</table>\n",
              "</div>"
            ],
            "text/plain": [
              "     size    price\n",
              "0  6.1101  17.5920\n",
              "1  5.5277   9.1302\n",
              "2  8.5186  13.6620\n",
              "3  7.0032  11.8540\n",
              "4  5.8598   6.8233"
            ]
          },
          "metadata": {},
          "execution_count": 3
        }
      ]
    },
    {
      "cell_type": "code",
      "metadata": {
        "colab": {
          "base_uri": "https://localhost:8080/",
          "height": 301
        },
        "id": "S1DGSJyTmEPA",
        "outputId": "d460216b-e507-45ce-cd49-18449b3e437b"
      },
      "source": [
        "file1.describe()#data statistics"
      ],
      "execution_count": null,
      "outputs": [
        {
          "output_type": "execute_result",
          "data": {
            "text/html": [
              "<div>\n",
              "<style scoped>\n",
              "    .dataframe tbody tr th:only-of-type {\n",
              "        vertical-align: middle;\n",
              "    }\n",
              "\n",
              "    .dataframe tbody tr th {\n",
              "        vertical-align: top;\n",
              "    }\n",
              "\n",
              "    .dataframe thead th {\n",
              "        text-align: right;\n",
              "    }\n",
              "</style>\n",
              "<table border=\"1\" class=\"dataframe\">\n",
              "  <thead>\n",
              "    <tr style=\"text-align: right;\">\n",
              "      <th></th>\n",
              "      <th>size</th>\n",
              "      <th>price</th>\n",
              "    </tr>\n",
              "  </thead>\n",
              "  <tbody>\n",
              "    <tr>\n",
              "      <th>count</th>\n",
              "      <td>97.000000</td>\n",
              "      <td>97.000000</td>\n",
              "    </tr>\n",
              "    <tr>\n",
              "      <th>mean</th>\n",
              "      <td>8.159800</td>\n",
              "      <td>5.839135</td>\n",
              "    </tr>\n",
              "    <tr>\n",
              "      <th>std</th>\n",
              "      <td>3.869884</td>\n",
              "      <td>5.510262</td>\n",
              "    </tr>\n",
              "    <tr>\n",
              "      <th>min</th>\n",
              "      <td>5.026900</td>\n",
              "      <td>-2.680700</td>\n",
              "    </tr>\n",
              "    <tr>\n",
              "      <th>25%</th>\n",
              "      <td>5.707700</td>\n",
              "      <td>1.986900</td>\n",
              "    </tr>\n",
              "    <tr>\n",
              "      <th>50%</th>\n",
              "      <td>6.589400</td>\n",
              "      <td>4.562300</td>\n",
              "    </tr>\n",
              "    <tr>\n",
              "      <th>75%</th>\n",
              "      <td>8.578100</td>\n",
              "      <td>7.046700</td>\n",
              "    </tr>\n",
              "    <tr>\n",
              "      <th>max</th>\n",
              "      <td>22.203000</td>\n",
              "      <td>24.147000</td>\n",
              "    </tr>\n",
              "  </tbody>\n",
              "</table>\n",
              "</div>"
            ],
            "text/plain": [
              "            size      price\n",
              "count  97.000000  97.000000\n",
              "mean    8.159800   5.839135\n",
              "std     3.869884   5.510262\n",
              "min     5.026900  -2.680700\n",
              "25%     5.707700   1.986900\n",
              "50%     6.589400   4.562300\n",
              "75%     8.578100   7.046700\n",
              "max    22.203000  24.147000"
            ]
          },
          "metadata": {},
          "execution_count": 4
        }
      ]
    },
    {
      "cell_type": "code",
      "metadata": {
        "colab": {
          "base_uri": "https://localhost:8080/",
          "height": 312
        },
        "id": "5hhBIdB_mWv1",
        "outputId": "49892582-9b14-4841-c9c6-9923730effd5"
      },
      "source": [
        "plt.scatter(file1[\"size\"].values,file1[\"price\"].values)\n",
        "plt.xlabel(\"size\")\n",
        "plt.ylabel(\"price\")\n",
        "plt.title(\"scatter plot\")"
      ],
      "execution_count": null,
      "outputs": [
        {
          "output_type": "execute_result",
          "data": {
            "text/plain": [
              "Text(0.5, 1.0, 'scatter plot')"
            ]
          },
          "metadata": {},
          "execution_count": 5
        },
        {
          "output_type": "display_data",
          "data": {
            "image/png": "[encoded data removed]",
            "text/plain": [
              "<Figure size 432x288 with 1 Axes>"
            ]
          },
          "metadata": {
            "needs_background": "light"
          }
        }
      ]
    },
    {
      "cell_type": "markdown",
      "metadata": {
        "id": "D0LDsarYDbtD"
      },
      "source": [
        "# Loss Function "
      ]
    },
    {
      "cell_type": "code",
      "metadata": {
        "id": "hvbQcquLDdCD"
      },
      "source": [
        "'''\n",
        "Here will define the loss function/ cost function \n",
        "Should be something that takes:\n",
        "1- Predictions \n",
        "2- GroundTruth/ True Values \n",
        "\n",
        "& Returns:\n",
        "Single value = the sum of the (preds-groundtruth)^2 for each entry\n",
        "'''\n",
        "def CoastFunc (Predictions,GroundTruth):\n",
        "  m = len(Predictions)\n",
        "  coast=(1/(2*m))*np.sum((Predictions-GroundTruth)**2,axis=0)#axis=0 => it takes the sum of rows \n",
        "  return coast"
      ],
      "execution_count": null,
      "outputs": []
    },
    {
      "cell_type": "markdown",
      "metadata": {
        "id": "BF7sIDSmDsav"
      },
      "source": [
        "# Your optimization [ Known as Gradient Descent ]"
      ]
    },
    {
      "cell_type": "code",
      "metadata": {
        "id": "ayIUEbUtDvnj"
      },
      "source": [
        "'''\n",
        "Here will define the optimization function \n",
        "it will update the weights of our predictive model\n",
        "\n",
        "Wnew = Wold - d/dt(loss)\n",
        "\n",
        "This straightforward function is known as gradient descent\n",
        "'''\n",
        "def GradientDescent (x,GroundTruth,iterations):\n",
        "  theta0,theta1=0.05,0.05\n",
        "  m = len(GroundTruth)\n",
        "  coast_li=[]\n",
        "  for i in range(iterations) :\n",
        "    Predictions=theta0+theta1*x\n",
        "    d_theta0=[]\n",
        "    d_theta1=[]\n",
        "\n",
        "    for ii in range(m) :\n",
        "      d_theta0.append((Predictions[ii]-GroundTruth[ii]))\n",
        "      d_theta1.append((Predictions[ii]-GroundTruth[ii])*x[ii])\n",
        "    coast_li.append(CoastFunc(Predictions,GroundTruth))\n",
        "    theta0 = theta0 - (0.001)*(1/m)*np.sum(d_theta0)\n",
        "    theta1 = theta1 - (0.001)*(1/m)*np.sum(d_theta1)\n",
        "  return theta0, theta1 , coast_li\n"
      ],
      "execution_count": 91,
      "outputs": []
    },
    {
      "cell_type": "markdown",
      "metadata": {
        "id": "8Ua4A9I3D_2E"
      },
      "source": [
        "# Train "
      ]
    },
    {
      "cell_type": "code",
      "metadata": {
        "id": "7IhFbxGgEBiX"
      },
      "source": [
        "x= file1[\"size\"].values\n",
        "y= file1[\"price\"].values\n",
        "w0,w1,coast_li=GradientDescent(x,y,100000) \n"
      ],
      "execution_count": 98,
      "outputs": []
    },
    {
      "cell_type": "markdown",
      "metadata": {
        "id": "YF5TUYMGPBbm"
      },
      "source": [
        "# Predictions and loss plot"
      ]
    },
    {
      "cell_type": "code",
      "metadata": {
        "id": "90I7Yg9qu-fw"
      },
      "source": [
        "predections =w0+(w1*file1[\"size\"].values)\n",
        "print(predections)\n",
        "coast=CoastFunc(predections,file1[\"price\"].values)\n",
        "print(coast)"
      ],
      "execution_count": null,
      "outputs": []
    },
    {
      "cell_type": "code",
      "metadata": {
        "id": "Bp5aozjuwDTB"
      },
      "source": [
        "file1[\"predictions\"]=predections"
      ],
      "execution_count": null,
      "outputs": []
    },
    {
      "cell_type": "code",
      "metadata": {
        "colab": {
          "base_uri": "https://localhost:8080/",
          "height": 363
        },
        "id": "q8n6uObfzVbk",
        "outputId": "6486421c-cabf-4781-bfe3-cea7bd9cc040"
      },
      "source": [
        "file1.iloc[10:20]"
      ],
      "execution_count": null,
      "outputs": [
        {
          "output_type": "execute_result",
          "data": {
            "text/html": [
              "<div>\n",
              "<style scoped>\n",
              "    .dataframe tbody tr th:only-of-type {\n",
              "        vertical-align: middle;\n",
              "    }\n",
              "\n",
              "    .dataframe tbody tr th {\n",
              "        vertical-align: top;\n",
              "    }\n",
              "\n",
              "    .dataframe thead th {\n",
              "        text-align: right;\n",
              "    }\n",
              "</style>\n",
              "<table border=\"1\" class=\"dataframe\">\n",
              "  <thead>\n",
              "    <tr style=\"text-align: right;\">\n",
              "      <th></th>\n",
              "      <th>size</th>\n",
              "      <th>price</th>\n",
              "      <th>predictions</th>\n",
              "    </tr>\n",
              "  </thead>\n",
              "  <tbody>\n",
              "    <tr>\n",
              "      <th>10</th>\n",
              "      <td>5.7107</td>\n",
              "      <td>3.25220</td>\n",
              "      <td>2.917276</td>\n",
              "    </tr>\n",
              "    <tr>\n",
              "      <th>11</th>\n",
              "      <td>14.1640</td>\n",
              "      <td>15.50500</td>\n",
              "      <td>13.002348</td>\n",
              "    </tr>\n",
              "    <tr>\n",
              "      <th>12</th>\n",
              "      <td>5.7340</td>\n",
              "      <td>3.15510</td>\n",
              "      <td>2.945074</td>\n",
              "    </tr>\n",
              "    <tr>\n",
              "      <th>13</th>\n",
              "      <td>8.4084</td>\n",
              "      <td>7.22580</td>\n",
              "      <td>6.135723</td>\n",
              "    </tr>\n",
              "    <tr>\n",
              "      <th>14</th>\n",
              "      <td>5.6407</td>\n",
              "      <td>0.71618</td>\n",
              "      <td>2.833764</td>\n",
              "    </tr>\n",
              "    <tr>\n",
              "      <th>15</th>\n",
              "      <td>5.3794</td>\n",
              "      <td>3.51290</td>\n",
              "      <td>2.522024</td>\n",
              "    </tr>\n",
              "    <tr>\n",
              "      <th>16</th>\n",
              "      <td>6.3654</td>\n",
              "      <td>5.30480</td>\n",
              "      <td>3.698356</td>\n",
              "    </tr>\n",
              "    <tr>\n",
              "      <th>17</th>\n",
              "      <td>5.1301</td>\n",
              "      <td>0.56077</td>\n",
              "      <td>2.224601</td>\n",
              "    </tr>\n",
              "    <tr>\n",
              "      <th>18</th>\n",
              "      <td>6.4296</td>\n",
              "      <td>3.65180</td>\n",
              "      <td>3.774948</td>\n",
              "    </tr>\n",
              "    <tr>\n",
              "      <th>19</th>\n",
              "      <td>7.0708</td>\n",
              "      <td>5.38930</td>\n",
              "      <td>4.539921</td>\n",
              "    </tr>\n",
              "  </tbody>\n",
              "</table>\n",
              "</div>"
            ],
            "text/plain": [
              "       size     price  predictions\n",
              "10   5.7107   3.25220     2.917276\n",
              "11  14.1640  15.50500    13.002348\n",
              "12   5.7340   3.15510     2.945074\n",
              "13   8.4084   7.22580     6.135723\n",
              "14   5.6407   0.71618     2.833764\n",
              "15   5.3794   3.51290     2.522024\n",
              "16   6.3654   5.30480     3.698356\n",
              "17   5.1301   0.56077     2.224601\n",
              "18   6.4296   3.65180     3.774948\n",
              "19   7.0708   5.38930     4.539921"
            ]
          },
          "metadata": {},
          "execution_count": 55
        }
      ]
    },
    {
      "cell_type": "code",
      "metadata": {
        "id": "XRMl2PQ8zZYs",
        "colab": {
          "base_uri": "https://localhost:8080/",
          "height": 312
        },
        "outputId": "efc77d96-f77c-44d6-da32-71867def4815"
      },
      "source": [
        "plt.plot(coast_li[:100])\n",
        "plt.xlabel(\"iteration\")\n",
        "plt.ylabel(\"loss\")\n",
        "plt.title(\"loss plot\")"
      ],
      "execution_count": 97,
      "outputs": [
        {
          "output_type": "execute_result",
          "data": {
            "text/plain": [
              "Text(0.5, 1.0, 'loss plot')"
            ]
          },
          "metadata": {},
          "execution_count": 97
        },
        {
          "output_type": "display_data",
          "data": {
            "image/png": "[encoded data removed]",
            "text/plain": [
              "<Figure size 432x288 with 1 Axes>"
            ]
          },
          "metadata": {
            "needs_background": "light"
          }
        }
      ]
    },
    {
      "cell_type": "code",
      "metadata": {
        "id": "bYglrXc3PdaX"
      },
      "source": [
        ""
      ],
      "execution_count": null,
      "outputs": []
    }
  ]
}