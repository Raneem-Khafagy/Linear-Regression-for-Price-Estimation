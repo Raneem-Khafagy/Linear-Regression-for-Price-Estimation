{
  "nbformat": 4,
  "nbformat_minor": 0,
  "metadata": {
    "colab": {
      "name": "Multi variable linear regression.ipynb",
      "provenance": [],
      "collapsed_sections": []
    },
    "kernelspec": {
      "name": "python3",
      "display_name": "Python 3"
    },
    "language_info": {
      "name": "python"
    }
  },
  "cells": [
    {
      "cell_type": "code",
      "metadata": {
        "id": "BQZjruamQsPq"
      },
      "source": [
        "#Imports \n",
        "import numpy as np\n",
        "import matplotlib.pyplot as plt\n",
        "import pandas as pd"
      ],
      "execution_count": null,
      "outputs": []
    },
    {
      "cell_type": "markdown",
      "metadata": {
        "id": "JWr3n-FPRQ67"
      },
      "source": [
        "# Read data"
      ]
    },
    {
      "cell_type": "code",
      "metadata": {
        "id": "NEZ7hhDYQ2Ss",
        "colab": {
          "base_uri": "https://localhost:8080/"
        },
        "outputId": "7d82262c-ac7a-4b4d-9512-78ddcd6d669f"
      },
      "source": [
        "'''\n",
        "Should be doing something like file = pd.read_csv(filepath in string format)\n",
        "'''\n",
        "file1 = pd.read_csv(\"/content/linear predictive model/ex2.txt\",names=[\"size\",\"n_rooms\",\"price\"])\n",
        "data  = file1.values\n",
        "data  = data.astype('float64')\n",
        "print (data)\n",
        "#normalization\n",
        "data[:,0] = data[:,0]/data[:,0].max()\n",
        "data[:,1] = data[:,1]/data[:,1].max()"
      ],
      "execution_count": null,
      "outputs": [
        {
          "output_type": "stream",
          "name": "stdout",
          "text": [
            "[[2.10400e+03 3.00000e+00 3.99900e+05]\n",
            " [1.60000e+03 3.00000e+00 3.29900e+05]\n",
            " [2.40000e+03 3.00000e+00 3.69000e+05]\n",
            " [1.41600e+03 2.00000e+00 2.32000e+05]\n",
            " [3.00000e+03 4.00000e+00 5.39900e+05]\n",
            " [1.98500e+03 4.00000e+00 2.99900e+05]\n",
            " [1.53400e+03 3.00000e+00 3.14900e+05]\n",
            " [1.42700e+03 3.00000e+00 1.98999e+05]\n",
            " [1.38000e+03 3.00000e+00 2.12000e+05]\n",
            " [1.49400e+03 3.00000e+00 2.42500e+05]\n",
            " [1.94000e+03 4.00000e+00 2.39999e+05]\n",
            " [2.00000e+03 3.00000e+00 3.47000e+05]\n",
            " [1.89000e+03 3.00000e+00 3.29999e+05]\n",
            " [4.47800e+03 5.00000e+00 6.99900e+05]\n",
            " [1.26800e+03 3.00000e+00 2.59900e+05]\n",
            " [2.30000e+03 4.00000e+00 4.49900e+05]\n",
            " [1.32000e+03 2.00000e+00 2.99900e+05]\n",
            " [1.23600e+03 3.00000e+00 1.99900e+05]\n",
            " [2.60900e+03 4.00000e+00 4.99998e+05]\n",
            " [3.03100e+03 4.00000e+00 5.99000e+05]\n",
            " [1.76700e+03 3.00000e+00 2.52900e+05]\n",
            " [1.88800e+03 2.00000e+00 2.55000e+05]\n",
            " [1.60400e+03 3.00000e+00 2.42900e+05]\n",
            " [1.96200e+03 4.00000e+00 2.59900e+05]\n",
            " [3.89000e+03 3.00000e+00 5.73900e+05]\n",
            " [1.10000e+03 3.00000e+00 2.49900e+05]\n",
            " [1.45800e+03 3.00000e+00 4.64500e+05]\n",
            " [2.52600e+03 3.00000e+00 4.69000e+05]\n",
            " [2.20000e+03 3.00000e+00 4.75000e+05]\n",
            " [2.63700e+03 3.00000e+00 2.99900e+05]\n",
            " [1.83900e+03 2.00000e+00 3.49900e+05]\n",
            " [1.00000e+03 1.00000e+00 1.69900e+05]\n",
            " [2.04000e+03 4.00000e+00 3.14900e+05]\n",
            " [3.13700e+03 3.00000e+00 5.79900e+05]\n",
            " [1.81100e+03 4.00000e+00 2.85900e+05]\n",
            " [1.43700e+03 3.00000e+00 2.49900e+05]\n",
            " [1.23900e+03 3.00000e+00 2.29900e+05]\n",
            " [2.13200e+03 4.00000e+00 3.45000e+05]\n",
            " [4.21500e+03 4.00000e+00 5.49000e+05]\n",
            " [2.16200e+03 4.00000e+00 2.87000e+05]\n",
            " [1.66400e+03 2.00000e+00 3.68500e+05]\n",
            " [2.23800e+03 3.00000e+00 3.29900e+05]\n",
            " [2.56700e+03 4.00000e+00 3.14000e+05]\n",
            " [1.20000e+03 3.00000e+00 2.99000e+05]\n",
            " [8.52000e+02 2.00000e+00 1.79900e+05]\n",
            " [1.85200e+03 4.00000e+00 2.99900e+05]\n",
            " [1.20300e+03 3.00000e+00 2.39500e+05]]\n"
          ]
        }
      ]
    },
    {
      "cell_type": "markdown",
      "metadata": {
        "id": "e28uqFATR8WB"
      },
      "source": [
        "# data ploting"
      ]
    },
    {
      "cell_type": "code",
      "metadata": {
        "colab": {
          "base_uri": "https://localhost:8080/",
          "height": 312
        },
        "id": "gqmMz3zcSDkI",
        "outputId": "3636bb5d-4b15-477f-d491-8b1f80ddbafd"
      },
      "source": [
        "plt.scatter(data[0:,0],data[0:,2])\n",
        "plt.xlabel(\"size\")\n",
        "plt.ylabel(\"price\")\n",
        "plt.title(\"size plot\")"
      ],
      "execution_count": null,
      "outputs": [
        {
          "output_type": "execute_result",
          "data": {
            "text/plain": [
              "Text(0.5, 1.0, 'size plot')"
            ]
          },
          "metadata": {},
          "execution_count": 4
        },
        {
          "output_type": "display_data",
          "data": {
            "image/png": "[encoded data removed]",
            "text/plain": [
              "<Figure size 432x288 with 1 Axes>"
            ]
          },
          "metadata": {
            "needs_background": "light"
          }
        }
      ]
    },
    {
      "cell_type": "code",
      "metadata": {
        "colab": {
          "base_uri": "https://localhost:8080/",
          "height": 312
        },
        "id": "yxjAa7vNUY4h",
        "outputId": "07597e2b-18b0-4ffb-b1ef-a870a41212e1"
      },
      "source": [
        "plt.scatter(data[0:,1],data[0:,2])\n",
        "plt.xlabel(\"room\")\n",
        "plt.ylabel(\"price\")\n",
        "plt.title(\"number of rooms plot\")"
      ],
      "execution_count": null,
      "outputs": [
        {
          "output_type": "execute_result",
          "data": {
            "text/plain": [
              "Text(0.5, 1.0, 'number of rooms plot')"
            ]
          },
          "metadata": {},
          "execution_count": 5
        },
        {
          "output_type": "display_data",
          "data": {
            "image/png": "[encoded data removed]",
            "text/plain": [
              "<Figure size 432x288 with 1 Axes>"
            ]
          },
          "metadata": {
            "needs_background": "light"
          }
        }
      ]
    },
    {
      "cell_type": "markdown",
      "metadata": {
        "id": "9zQPQnomRsNv"
      },
      "source": [
        "# loss function "
      ]
    },
    {
      "cell_type": "code",
      "metadata": {
        "id": "Lfg_lt6TR1no"
      },
      "source": [
        "def CostFunc(Predictions,GroundTruth):\n",
        "  m=len(GroundTruth)\n",
        "  error=((1/(2*m))*np.sum((Predictions-GroundTruth)**2))\n",
        "  return error"
      ],
      "execution_count": null,
      "outputs": []
    },
    {
      "cell_type": "markdown",
      "metadata": {
        "id": "7b0xR5CFV1rO"
      },
      "source": [
        "# Gradient decent"
      ]
    },
    {
      "cell_type": "code",
      "metadata": {
        "id": "ahTr-UX4Vq_Y"
      },
      "source": [
        "def Gradient(x,GroundTruth,iterations):\n",
        "  theta0=0.05\n",
        "  theta=np.zeros((2,1))\n",
        "  cost_li=[]\n",
        "  m=len(GroundTruth)\n",
        "  \n",
        "  for i in range(iterations):\n",
        "    predictions=theta0+np.dot(x,theta)\n",
        "    d_theta0= np.sum(predictions-GroundTruth,axis=0)\n",
        "    d_theta = np.sum(np.dot(x.T,predictions-GroundTruth),axis=0)\n",
        "\n",
        "    theta0 = theta0-(0.001)*(1/m)*d_theta0\n",
        "    theta  = theta -(0.001)*(1/m)*d_theta\n",
        "    cost_li.append(CostFunc(predictions,GroundTruth))\n",
        "\n",
        "  return theta0 , theta , cost_li"
      ],
      "execution_count": null,
      "outputs": []
    },
    {
      "cell_type": "markdown",
      "metadata": {
        "id": "ofCcr9vajFuP"
      },
      "source": [
        "\n",
        "\n",
        "# Predictions and loss plot"
      ]
    },
    {
      "cell_type": "code",
      "metadata": {
        "id": "35qC3jkvWiKd",
        "colab": {
          "base_uri": "https://localhost:8080/"
        },
        "outputId": "f2f9079a-09e9-4d73-c3de-c6a036264e41"
      },
      "source": [
        "x=data[0:,0:2]\n",
        "y=data[0:,2]\n",
        "theta0,theta,cost_li = Gradient(x,y,1000)\n",
        "predictions=theta0+np.dot(x,theta)\n",
        "print(predictions)"
      ],
      "execution_count": null,
      "outputs": [
        {
          "output_type": "stream",
          "name": "stdout",
          "text": [
            "[306806.01631121 288566.14436838 317518.32205541 249495.18057974\n",
            " 371644.41824131 334911.34280089 286177.5897092  282305.23594356\n",
            " 280604.29550445 284729.98082485 333282.782806   303042.2332119\n",
            " 299061.30877993 457545.52943872 276550.99062826 346311.26276516\n",
            " 246020.91925729 275392.90352078 357494.04139677 372766.31512668\n",
            " 294609.91146055 266576.96541508 288710.90525682 334078.96769239\n",
            " 371441.7529975  270471.03331399 283427.13282893 322078.29004112\n",
            " 310280.27763365 326095.40469519 264803.64453175 202028.08526185\n",
            " 336901.80501688 344190.51574959 328614.24415396 282667.13816465\n",
            " 275501.47418711 340231.30545088 415615.53810349 341317.01211415\n",
            " 258470.35566271 311655.50607379 355974.05206821 274090.05552487\n",
            " 229083.89531038 330098.04326042 274198.62619119]\n"
          ]
        }
      ]
    },
    {
      "cell_type": "code",
      "metadata": {
        "colab": {
          "base_uri": "https://localhost:8080/",
          "height": 195
        },
        "id": "TxTFVbrRkTpC",
        "outputId": "f74bd5b7-4bc2-4ca3-d89a-b9a425d2bd55"
      },
      "source": [
        "file1[\"predictions\"]=predictions\n",
        "file1.head()"
      ],
      "execution_count": null,
      "outputs": [
        {
          "output_type": "execute_result",
          "data": {
            "text/html": [
              "<div>\n",
              "<style scoped>\n",
              "    .dataframe tbody tr th:only-of-type {\n",
              "        vertical-align: middle;\n",
              "    }\n",
              "\n",
              "    .dataframe tbody tr th {\n",
              "        vertical-align: top;\n",
              "    }\n",
              "\n",
              "    .dataframe thead th {\n",
              "        text-align: right;\n",
              "    }\n",
              "</style>\n",
              "<table border=\"1\" class=\"dataframe\">\n",
              "  <thead>\n",
              "    <tr style=\"text-align: right;\">\n",
              "      <th></th>\n",
              "      <th>size</th>\n",
              "      <th>n_rooms</th>\n",
              "      <th>price</th>\n",
              "      <th>predictions</th>\n",
              "    </tr>\n",
              "  </thead>\n",
              "  <tbody>\n",
              "    <tr>\n",
              "      <th>0</th>\n",
              "      <td>2104</td>\n",
              "      <td>3</td>\n",
              "      <td>399900</td>\n",
              "      <td>306806.016311</td>\n",
              "    </tr>\n",
              "    <tr>\n",
              "      <th>1</th>\n",
              "      <td>1600</td>\n",
              "      <td>3</td>\n",
              "      <td>329900</td>\n",
              "      <td>288566.144368</td>\n",
              "    </tr>\n",
              "    <tr>\n",
              "      <th>2</th>\n",
              "      <td>2400</td>\n",
              "      <td>3</td>\n",
              "      <td>369000</td>\n",
              "      <td>317518.322055</td>\n",
              "    </tr>\n",
              "    <tr>\n",
              "      <th>3</th>\n",
              "      <td>1416</td>\n",
              "      <td>2</td>\n",
              "      <td>232000</td>\n",
              "      <td>249495.180580</td>\n",
              "    </tr>\n",
              "    <tr>\n",
              "      <th>4</th>\n",
              "      <td>3000</td>\n",
              "      <td>4</td>\n",
              "      <td>539900</td>\n",
              "      <td>371644.418241</td>\n",
              "    </tr>\n",
              "  </tbody>\n",
              "</table>\n",
              "</div>"
            ],
            "text/plain": [
              "   size  n_rooms   price    predictions\n",
              "0  2104        3  399900  306806.016311\n",
              "1  1600        3  329900  288566.144368\n",
              "2  2400        3  369000  317518.322055\n",
              "3  1416        2  232000  249495.180580\n",
              "4  3000        4  539900  371644.418241"
            ]
          },
          "metadata": {},
          "execution_count": 86
        }
      ]
    },
    {
      "cell_type": "code",
      "metadata": {
        "id": "eZui1FADZMMu",
        "colab": {
          "base_uri": "https://localhost:8080/",
          "height": 312
        },
        "outputId": "6c0ffa2f-e55f-481a-a771-f4db004043a5"
      },
      "source": [
        "plt.plot(cost_li)\n",
        "plt.xlabel(\"iteration\")\n",
        "plt.ylabel(\"loss\")\n",
        "plt.title(\"loss plot\")"
      ],
      "execution_count": null,
      "outputs": [
        {
          "output_type": "execute_result",
          "data": {
            "text/plain": [
              "Text(0.5, 1.0, 'loss plot')"
            ]
          },
          "metadata": {},
          "execution_count": 87
        },
        {
          "output_type": "display_data",
          "data": {
            "image/png": "[encoded data removed]",
            "text/plain": [
              "<Figure size 432x288 with 1 Axes>"
            ]
          },
          "metadata": {
            "needs_background": "light"
          }
        }
      ]
    },
    {
      "cell_type": "code",
      "metadata": {
        "id": "1VdfCc3okF2i"
      },
      "source": [
        ""
      ],
      "execution_count": null,
      "outputs": []
    }
  ]
}